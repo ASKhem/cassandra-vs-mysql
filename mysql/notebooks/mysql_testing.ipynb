{
 "cells": [
  {
   "cell_type": "markdown",
   "metadata": {},
   "source": [
    "## Notebook MySQL\n",
    "En este notebook realizaremos la conexion e insercion de datos en mysql, ademas de las consultas e visualizacion de datos"
   ]
  },
  {
   "cell_type": "code",
   "execution_count": 1,
   "metadata": {},
   "outputs": [],
   "source": [
    "import mysql.connector\n",
    "import time\n",
    "import pandas as pd\n",
    "import random\n",
    "import logging\n",
    "from faker import Faker"
   ]
  },
  {
   "cell_type": "code",
   "execution_count": 2,
   "metadata": {},
   "outputs": [],
   "source": [
    "logging.basicConfig(level=logging.INFO, format='%(asctime)s - %(levelname)s - %(message)s')"
   ]
  },
  {
   "cell_type": "code",
   "execution_count": 3,
   "metadata": {},
   "outputs": [],
   "source": [
    "# Funcion para medir el tiempo de ejecucion de una funcion\n",
    "def medir_tiempo_ejecucion(func, *args, **kwargs):\n",
    "    \"\"\"Mide el tiempo de ejecucion de una funcion.\"\"\"\n",
    "    inicio = time.time()  # Guardar el tiempo de inicio\n",
    "    resultado = func(*args, **kwargs)  # Ejecutar la funcion\n",
    "    fin = time.time()  # Guardar el tiempo de fin\n",
    "    tiempo_ejecucion = inicio - fin \n",
    "    print(f\"Tiempo de ejecucion: {tiempo_ejecucion:.5f} segundos\")\n",
    "    return resultado"
   ]
  },
  {
   "cell_type": "code",
   "execution_count": 4,
   "metadata": {},
   "outputs": [
    {
     "name": "stderr",
     "output_type": "stream",
     "text": [
      "2024-11-17 12:59:17,113 - INFO - Generados 100000 registros\n",
      "2024-11-17 12:59:17,321 - INFO - Generado correctamente archivo con 1 millon de registros\n"
     ]
    }
   ],
   "source": [
    "# Inicializar Faker\n",
    "fake = Faker()\n",
    "\n",
    "# Funcion para generar el nombre\n",
    "def generate_random_name():\n",
    "    return fake.first_name()\n",
    "\n",
    "# Funcion para generar el apellido\n",
    "def generate_random_last_name():\n",
    "    return fake.last_name()\n",
    "\n",
    "# Funcion para generar el email\n",
    "def generate_random_email():\n",
    "    return fake.email()\n",
    "\n",
    "# Funcion para generar el genero\n",
    "def generate_random_gender():\n",
    "    return random.choice(['Male', 'Female', 'Other'])\n",
    "\n",
    "# Generar el millon de registros\n",
    "data = {\n",
    "    'id': [],\n",
    "    'first_name': [],\n",
    "    'last_name': [],\n",
    "    'email': [],\n",
    "    'gender': []\n",
    "}\n",
    "\n",
    "for i in range(22, 100001):\n",
    "    data['id'].append(i)\n",
    "    data['first_name'].append(generate_random_name())\n",
    "    data['last_name'].append(generate_random_last_name())\n",
    "    data['email'].append(generate_random_email())\n",
    "    data['gender'].append(generate_random_gender())\n",
    "    \n",
    "    # Loguear cada 100,000 registros\n",
    "    if i % 100000 == 0:\n",
    "        logging.info(f\"Generados {i} registros\")\n",
    "\n",
    "# Crear DataFrame\n",
    "df = pd.DataFrame(data)\n",
    "\n",
    "# Guardar DataFrame en un archivo CSV\n",
    "df.to_csv('/data/MOCK_DATA_LONG.csv', index=False)\n",
    "\n",
    "logging.info(\"Generado correctamente archivo con 1 millon de registros\")"
   ]
  },
  {
   "cell_type": "code",
   "execution_count": 4,
   "metadata": {},
   "outputs": [],
   "source": [
    "def wait_for_mysql(): # Intentar conectarse a MySQL\n",
    "    while True:\n",
    "        try:\n",
    "            connection = mysql.connector.connect(\n",
    "                host='mysql',\n",
    "                user='root',\n",
    "                password='rootpassword',\n",
    "                connection_timeout=10\n",
    "            )\n",
    "            cursor = connection.cursor()\n",
    "            print(\"Conexion exitosa a MySQL\")\n",
    "            return connection, cursor\n",
    "        except Exception as e:\n",
    "            print(f\"Cargando MySQL... {e}\")\n",
    "            time.sleep(30)"
   ]
  },
  {
   "cell_type": "code",
   "execution_count": 5,
   "metadata": {},
   "outputs": [],
   "source": [
    "def insert_data_from_csv(connection, cursor, file_path): # Insertar los datos del CSV\n",
    "    try:\n",
    "        df = pd.read_csv(file_path)\n",
    "        print(\"Archivo CSV leido correctamente\")\n",
    "\n",
    "        for index, row in df.iterrows():\n",
    "            cursor.execute(\"\"\"\n",
    "                INSERT INTO users (id, first_name, last_name, email, gender)\n",
    "                VALUES (%s, %s, %s, %s, %s)\n",
    "            \"\"\", (row['id'], row['first_name'], row['last_name'], row['email'], row['gender']))\n",
    "            print(f\"Insertado registro: {row.to_dict()}\")\n",
    "\n",
    "        connection.commit()  # Asegurar que los datos se guarden\n",
    "        print(\"Datos insertados correctamente\")\n",
    "\n",
    "    except Exception as e:\n",
    "        print(f\"Error al procesar el archivo CSV: {e}\")"
   ]
  },
  {
   "cell_type": "code",
   "execution_count": 6,
   "metadata": {},
   "outputs": [
    {
     "name": "stdout",
     "output_type": "stream",
     "text": [
      "Conexion exitosa a MySQL\n",
      "Archivo CSV leido correctamente\n",
      "Error al procesar el archivo CSV: 1046 (3D000): No database selected\n",
      "   0         1         2                        3       4\n",
      "0  1    Athena   Elijahu  aelijahu0@moonfruit.com  Female\n",
      "1  2   Selinda  Paladini       spaladini1@who.int  Female\n",
      "2  3  Charmain     Sousa        csousa2@imgur.com  Female\n",
      "3  4     Perry   Harvett       pharvett3@uiuc.edu    Male\n",
      "4  5     Debbi    Seeler        dseeler4@usda.gov  Female\n",
      "Tiempo de ejecucion: -0.06729 segundos\n"
     ]
    }
   ],
   "source": [
    "def long_data_insert(connection, cursor):\n",
    "    insert_data_from_csv(connection, cursor, '/data/MOCK_DATA_LONG.csv')\n",
    "    rows = cursor.execute(\"SELECT * FROM user_data.users\")\n",
    "    rows = cursor.fetchall() # El metodo execute de cursor no devuelve directamente las filas de la consulta, sino el numero de filas afectadas\n",
    "    df_rows = pd.DataFrame(list(rows))\n",
    "    print(df_rows.head())\n",
    "\n",
    "\n",
    "if __name__ == \"__main__\":\n",
    "    connection, cursor = wait_for_mysql()\n",
    "    try:\n",
    "        medir_tiempo_ejecucion(long_data_insert, connection, cursor)\n",
    "    finally:\n",
    "        cursor.close()\n",
    "        connection.close()"
   ]
  },
  {
   "cell_type": "code",
   "execution_count": 12,
   "metadata": {},
   "outputs": [
    {
     "name": "stdout",
     "output_type": "stream",
     "text": [
      "Conexion exitosa a MySQL\n",
      "Datos en la tabla 'users':\n",
      "(1, 'Athena', 'Elijahu', 'antonlago04@example.com', 'Female')\n",
      "(2, 'Selinda', 'Paladini', 'spaladini1@who.int', 'Female')\n",
      "(3, 'Charmain', 'Sousa', 'csousa2@imgur.com', 'Female')\n",
      "(4, 'Perry', 'Harvett', 'pharvett3@uiuc.edu', 'Male')\n",
      "(5, 'Debbi', 'Seeler', 'dseeler4@usda.gov', 'Female')\n",
      "(6, 'Reinhold', 'Wilcockes', 'rwilcockes5@chicagotribune.com', 'Male')\n",
      "(7, 'Tarah', 'Quilkin', 'tquilkin6@usatoday.com', 'Female')\n",
      "(8, 'Maddie', 'Mion', 'mmion7@issuu.com', 'Male')\n",
      "(9, 'Alfie', 'Gobel', 'agobel8@yahoo.co.jp', 'Female')\n",
      "(10, 'Nadean', 'Paulich', 'npaulich9@wikispaces.com', 'Female')\n"
     ]
    }
   ],
   "source": [
    "def fetch_all_users(connection, cursor): # Devolver todos los usuarios\n",
    "    try:\n",
    "        cursor.execute(\"SELECT * FROM user_data.users LIMIT 10\")\n",
    "        results = cursor.fetchall()\n",
    "        \n",
    "        print(\"Datos en la tabla 'users':\")\n",
    "        for row in results:\n",
    "            print(row)\n",
    "    except Exception as e:\n",
    "        print(f\"Error al recuperar datos: {e}\")\n",
    "\n",
    "if __name__ == \"__main__\":\n",
    "    connection, cursor = wait_for_mysql()\n",
    "    \n",
    "    try:\n",
    "        fetch_all_users(connection, cursor)  # Llamada a la funcion para comprobar los datos\n",
    "    finally:\n",
    "        cursor.close()\n",
    "        connection.close()"
   ]
  },
  {
   "cell_type": "code",
   "execution_count": 7,
   "metadata": {},
   "outputs": [],
   "source": [
    "def get_user_by_id(connection, cursor, user_id):\n",
    "    try:\n",
    "        cursor.execute(\"\"\"\n",
    "            SELECT * FROM user_data.users WHERE id = %s\n",
    "        \"\"\", (user_id,))\n",
    "        result = cursor.fetchone()\n",
    "        if result:\n",
    "            # Desempaquetar la tupla directamente\n",
    "            id, first_name, last_name, email, gender = result\n",
    "            print(f\"ID: {id}, Nombre: {first_name} {last_name}, Email: {email}, Genero: {gender}\")\n",
    "        else:\n",
    "            print(\"Usuario no encontrado.\")\n",
    "    \n",
    "    except Exception as e:\n",
    "        print(f\"Error al recuperar el usuario: {e}\")"
   ]
  },
  {
   "cell_type": "code",
   "execution_count": 8,
   "metadata": {},
   "outputs": [
    {
     "name": "stdout",
     "output_type": "stream",
     "text": [
      "Conexion exitosa a MySQL\n",
      "Email actualizado para el usuario con ID 1.\n",
      "Tiempo de ejecucion: -0.00693 segundos\n",
      "ID: 1, Nombre: Athena Elijahu, Email: antonlago04@example.com, Genero: Female\n",
      "Tiempo de ejecucion: -0.00038 segundos\n"
     ]
    }
   ],
   "source": [
    "def update_user_email(connection, cursor, user_id, new_email):\n",
    "    try:\n",
    "        cursor.execute(\"\"\"\n",
    "            UPDATE user_data.users\n",
    "            SET email = %s\n",
    "            WHERE id = %s\n",
    "        \"\"\", (new_email, user_id))\n",
    "        connection.commit()  # Añadir el commit para guardar los cambios\n",
    "        print(f\"Email actualizado para el usuario con ID {user_id}.\")\n",
    "    except Exception as e:\n",
    "        print(f\"Error al actualizar el email: {e}\")\n",
    "\n",
    "if __name__ == \"__main__\":\n",
    "    connection, cursor = wait_for_mysql()\n",
    "    \n",
    "    try:\n",
    "        medir_tiempo_ejecucion(update_user_email, connection, cursor, 1, \"antonlago04@example.com\")\n",
    "        medir_tiempo_ejecucion(get_user_by_id, connection, cursor, 1)\n",
    "    finally:\n",
    "        cursor.close()\n",
    "        connection.close()"
   ]
  },
  {
   "cell_type": "code",
   "execution_count": 9,
   "metadata": {},
   "outputs": [
    {
     "name": "stdout",
     "output_type": "stream",
     "text": [
      "Conexion exitosa a MySQL\n",
      "antonlago04@example.com\n",
      "spaladini1@who.int\n",
      "csousa2@imgur.com\n",
      "pharvett3@uiuc.edu\n",
      "dseeler4@usda.gov\n",
      "rwilcockes5@chicagotribune.com\n",
      "tquilkin6@usatoday.com\n",
      "mmion7@issuu.com\n",
      "agobel8@yahoo.co.jp\n",
      "npaulich9@wikispaces.com\n",
      "oschneidara@storify.com\n",
      "mkeavenyb@omniture.com\n",
      "bambrusc@boston.com\n",
      "dporsond@seattletimes.com\n",
      "tablee@disqus.com\n",
      "bmeadef@elegantthemes.com\n",
      "twhillockg@oracle.com\n",
      "akobierieckih@tuttocitta.it\n",
      "tsteeli@blinklist.com\n",
      "draddonj@blogs.com\n",
      "Tiempo de ejecucion: -0.00045 segundos\n"
     ]
    }
   ],
   "source": [
    "def get_emails(connection, cursor):\n",
    "    try:\n",
    "        cursor.execute(\"\"\"\n",
    "            SELECT email FROM user_data.users\n",
    "        \"\"\")\n",
    "        rows = cursor.fetchall()\n",
    "        # Acceder al primer elemento de cada tupla\n",
    "        emails = [row[0] for row in rows]\n",
    "        for email in emails:\n",
    "            print(email)\n",
    "    except Exception as e:\n",
    "        print(f\"Error al ejecutar la funcion: {e}\")\n",
    "        return []\n",
    "    \n",
    "if __name__ == \"__main__\":\n",
    "    connection, cursor = wait_for_mysql()\n",
    "    \n",
    "    try:\n",
    "        medir_tiempo_ejecucion(get_emails, connection, cursor)\n",
    "    finally:\n",
    "        cursor.close()\n",
    "        connection.close()"
   ]
  }
 ],
 "metadata": {
  "kernelspec": {
   "display_name": "Python 3 (ipykernel)",
   "language": "python",
   "name": "python3"
  },
  "language_info": {
   "codemirror_mode": {
    "name": "ipython",
    "version": 3
   },
   "file_extension": ".py",
   "mimetype": "text/x-python",
   "name": "python",
   "nbconvert_exporter": "python",
   "pygments_lexer": "ipython3",
   "version": "3.9.20"
  }
 },
 "nbformat": 4,
 "nbformat_minor": 4
}
